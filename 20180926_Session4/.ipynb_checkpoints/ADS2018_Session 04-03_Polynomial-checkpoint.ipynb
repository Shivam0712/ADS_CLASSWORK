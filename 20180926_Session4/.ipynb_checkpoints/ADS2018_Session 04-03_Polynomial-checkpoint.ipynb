{
 "cells": [
  {
   "cell_type": "code",
   "execution_count": 1,
   "metadata": {},
   "outputs": [],
   "source": [
    "import pandas as pd\n",
    "import numpy as np\n",
    "import statsmodels.formula.api as smf\n",
    "import statsmodels.api as sm\n",
    "from sklearn import linear_model\n",
    "import matplotlib.pylab as plt\n",
    "import math\n",
    "import seaborn as sbn\n",
    "%matplotlib inline"
   ]
  },
  {
   "cell_type": "markdown",
   "metadata": {},
   "source": [
    "# Fitting polynomial models with linear regression. \n",
    "# Overfitting. Cross-validation"
   ]
  },
  {
   "cell_type": "markdown",
   "metadata": {},
   "source": [
    "# Polinomial models with linear regression\n",
    "While linear regression is intended primarily for linear models it can fit nonlinear models as well"
   ]
  },
  {
   "cell_type": "markdown",
   "metadata": {},
   "source": [
    "### Example 1. "
   ]
  },
  {
   "cell_type": "code",
   "execution_count": 2,
   "metadata": {},
   "outputs": [
    {
     "data": {
      "text/html": [
       "<div>\n",
       "<style scoped>\n",
       "    .dataframe tbody tr th:only-of-type {\n",
       "        vertical-align: middle;\n",
       "    }\n",
       "\n",
       "    .dataframe tbody tr th {\n",
       "        vertical-align: top;\n",
       "    }\n",
       "\n",
       "    .dataframe thead th {\n",
       "        text-align: right;\n",
       "    }\n",
       "</style>\n",
       "<table border=\"1\" class=\"dataframe\">\n",
       "  <thead>\n",
       "    <tr style=\"text-align: right;\">\n",
       "      <th></th>\n",
       "      <th>x</th>\n",
       "      <th>y</th>\n",
       "    </tr>\n",
       "  </thead>\n",
       "  <tbody>\n",
       "    <tr>\n",
       "      <th>0</th>\n",
       "      <td>-10.0</td>\n",
       "      <td>62.503031</td>\n",
       "    </tr>\n",
       "    <tr>\n",
       "      <th>1</th>\n",
       "      <td>-9.5</td>\n",
       "      <td>51.410761</td>\n",
       "    </tr>\n",
       "    <tr>\n",
       "      <th>2</th>\n",
       "      <td>-9.0</td>\n",
       "      <td>44.605198</td>\n",
       "    </tr>\n",
       "    <tr>\n",
       "      <th>3</th>\n",
       "      <td>-8.5</td>\n",
       "      <td>24.739247</td>\n",
       "    </tr>\n",
       "    <tr>\n",
       "      <th>4</th>\n",
       "      <td>-8.0</td>\n",
       "      <td>22.200164</td>\n",
       "    </tr>\n",
       "  </tbody>\n",
       "</table>\n",
       "</div>"
      ],
      "text/plain": [
       "      x          y\n",
       "0 -10.0  62.503031\n",
       "1  -9.5  51.410761\n",
       "2  -9.0  44.605198\n",
       "3  -8.5  24.739247\n",
       "4  -8.0  22.200164"
      ]
     },
     "execution_count": 2,
     "metadata": {},
     "output_type": "execute_result"
    }
   ],
   "source": [
    "#generate data and put it in the dataframe\n",
    "np.random.seed(2018)\n",
    "x=np.arange(-10,20,0.5)\n",
    "y=x**4/100+x**3/20+x**2/3+2*x+np.random.normal(loc=0,scale=3,size=60)\n",
    "data1=pd.DataFrame({'x':x,'y':y}) #create a dataframe\n",
    "#slice the data in three pieces (we'll talk about those later)\n",
    "data1_2=data1.loc[40:49]\n",
    "data1_3=data1.loc[50:59]\n",
    "data1=data1.loc[0:39] \n",
    "data1.head() #for now let's stick with this first one"
   ]
  },
  {
   "cell_type": "code",
   "execution_count": 3,
   "metadata": {},
   "outputs": [
    {
     "data": {
      "text/plain": [
       "(40, 2)"
      ]
     },
     "execution_count": 3,
     "metadata": {},
     "output_type": "execute_result"
    }
   ],
   "source": [
    "data1.shape"
   ]
  },
  {
   "cell_type": "code",
   "execution_count": 4,
   "metadata": {},
   "outputs": [
    {
     "data": {
      "text/plain": [
       "<matplotlib.axes._subplots.AxesSubplot at 0x7f84ac9aaac8>"
      ]
     },
     "execution_count": 4,
     "metadata": {},
     "output_type": "execute_result"
    },
    {
     "data": {
      "image/png": "[encoded data removed]",
      "text/plain": [
       "<matplotlib.figure.Figure at 0x7f84e164d208>"
      ]
     },
     "metadata": {
      "needs_background": "light"
     },
     "output_type": "display_data"
    }
   ],
   "source": [
    "#visualize the observations\n",
    "data1.plot(x='x',y='y',kind='scatter')"
   ]
  },
  {
   "cell_type": "code",
   "execution_count": 5,
   "metadata": {},
   "outputs": [
    {
     "name": "stdout",
     "output_type": "stream",
     "text": [
      "                            OLS Regression Results                            \n",
      "==============================================================================\n",
      "Dep. Variable:                      y   R-squared:                       0.305\n",
      "Model:                            OLS   Adj. R-squared:                  0.287\n",
      "Method:                 Least Squares   F-statistic:                     16.70\n",
      "Date:                Tue, 13 Nov 2018   Prob (F-statistic):           0.000218\n",
      "Time:                        20:02:51   Log-Likelihood:                -200.78\n",
      "No. Observations:                  40   AIC:                             405.6\n",
      "Df Residuals:                      38   BIC:                             408.9\n",
      "Df Model:                           1                                         \n",
      "Covariance Type:            nonrobust                                         \n",
      "==============================================================================\n",
      "                 coef    std err          t      P>|t|      [0.025      0.975]\n",
      "------------------------------------------------------------------------------\n",
      "Intercept     30.5075      5.946      5.131      0.000      18.471      42.544\n",
      "x              4.2062      1.029      4.087      0.000       2.123       6.290\n",
      "==============================================================================\n",
      "Omnibus:                        9.814   Durbin-Watson:                   0.068\n",
      "Prob(Omnibus):                  0.007   Jarque-Bera (JB):                9.448\n",
      "Skew:                           1.169   Prob(JB):                      0.00888\n",
      "Kurtosis:                       3.447   Cond. No.                         5.78\n",
      "==============================================================================\n",
      "\n",
      "Warnings:\n",
      "[1] Standard Errors assume that the covariance matrix of the errors is correctly specified.\n"
     ]
    }
   ],
   "source": [
    "#does not really look linear, but lets fit a linear model first\n",
    "lm = smf.ols(formula='y~x', data = data1).fit()\n",
    "print(lm.summary())"
   ]
  },
  {
   "cell_type": "code",
   "execution_count": 6,
   "metadata": {},
   "outputs": [
    {
     "data": {
      "text/plain": [
       "[<matplotlib.lines.Line2D at 0x7f84ac874f98>]"
      ]
     },
     "execution_count": 6,
     "metadata": {},
     "output_type": "execute_result"
    },
    {
     "data": {
      "image/png": "[encoded data removed]",
      "text/plain": [
       "<matplotlib.figure.Figure at 0x7f84ac8a55f8>"
      ]
     },
     "metadata": {
      "needs_background": "light"
     },
     "output_type": "display_data"
    }
   ],
   "source": [
    "#visualize regression fit\n",
    "data1['ypred']=lm.predict() #predicted regression values\n",
    "plt.plot(data1.x,data1.y,'.r') #plot the data\n",
    "plt.plot(data1.x,data1.ypred,'b') #plot the regression"
   ]
  },
  {
   "cell_type": "markdown",
   "metadata": {},
   "source": [
    "so despite decent R2, linear model does not really fit well. It seems a more complex dependence might be needed"
   ]
  },
  {
   "cell_type": "markdown",
   "metadata": {},
   "source": [
    "Given two columns of data, $y$ and $x$, how can we fit a polynomial model $$\\hat y = w_0+\\sum\\limits_{i=1}^M w_i\\cdot x^i$$\n",
    "finding coefficients $w_j$?\n",
    "\n",
    "As you may notice the model looks almost like multi-variate regression, if one could just consider $x^i$ as distinctive regressors, rather than powers of the same regressor $x$. So why not do it that way? In the end its up to us how to use the given data, what features to consider and what model to try. It's called feature engineering."
   ]
  },
  {
   "cell_type": "code",
   "execution_count": 7,
   "metadata": {},
   "outputs": [],
   "source": [
    "#introduce another regressor being a square of x\n",
    "data1['x2']=data1.x**2"
   ]
  },
  {
   "cell_type": "code",
   "execution_count": 8,
   "metadata": {},
   "outputs": [
    {
     "name": "stdout",
     "output_type": "stream",
     "text": [
      "                            OLS Regression Results                            \n",
      "==============================================================================\n",
      "Dep. Variable:                      y   R-squared:                       0.945\n",
      "Model:                            OLS   Adj. R-squared:                  0.942\n",
      "Method:                 Least Squares   F-statistic:                     316.3\n",
      "Date:                Tue, 13 Nov 2018   Prob (F-statistic):           5.41e-24\n",
      "Time:                        20:03:55   Log-Likelihood:                -150.15\n",
      "No. Observations:                  40   AIC:                             306.3\n",
      "Df Residuals:                      37   BIC:                             311.4\n",
      "Df Model:                           2                                         \n",
      "Covariance Type:            nonrobust                                         \n",
      "==============================================================================\n",
      "                 coef    std err          t      P>|t|      [0.025      0.975]\n",
      "------------------------------------------------------------------------------\n",
      "Intercept     -8.7347      2.546     -3.430      0.001     -13.894      -3.575\n",
      "x              4.7963      0.296     16.229      0.000       4.197       5.395\n",
      "x2             1.1802      0.057     20.693      0.000       1.065       1.296\n",
      "==============================================================================\n",
      "Omnibus:                        5.506   Durbin-Watson:                   0.258\n",
      "Prob(Omnibus):                  0.064   Jarque-Bera (JB):                4.137\n",
      "Skew:                           0.660   Prob(JB):                        0.126\n",
      "Kurtosis:                       3.861   Cond. No.                         67.2\n",
      "==============================================================================\n",
      "\n",
      "Warnings:\n",
      "[1] Standard Errors assume that the covariance matrix of the errors is correctly specified.\n"
     ]
    }
   ],
   "source": [
    "#fit a multi-variate linear model using x and x**2 as two regressors\n",
    "lm = smf.ols(formula='y~x+x2', data = data1).fit()\n",
    "print(lm.summary())"
   ]
  },
  {
   "cell_type": "code",
   "execution_count": 9,
   "metadata": {},
   "outputs": [
    {
     "data": {
      "text/plain": [
       "[<matplotlib.lines.Line2D at 0x7f84ac797208>]"
      ]
     },
     "execution_count": 9,
     "metadata": {},
     "output_type": "execute_result"
    },
    {
     "data": {
      "image/png": "[encoded data removed]",
      "text/plain": [
       "<matplotlib.figure.Figure at 0x7f84a04ef0f0>"
      ]
     },
     "metadata": {
      "needs_background": "light"
     },
     "output_type": "display_data"
    }
   ],
   "source": [
    "#visualize regression fit\n",
    "data1['ypred']=lm.predict() #predicted regression values\n",
    "plt.plot(data1.x,data1.y,'.r') #plot the data\n",
    "plt.plot(data1.x,data1.ypred,'b') #plot the regression"
   ]
  },
  {
   "cell_type": "code",
   "execution_count": 10,
   "metadata": {},
   "outputs": [],
   "source": [
    "#But what if add more powers of x? Will the fit become any better?"
   ]
  },
  {
   "cell_type": "code",
   "execution_count": 11,
   "metadata": {},
   "outputs": [
    {
     "data": {
      "text/html": [
       "<div>\n",
       "<style scoped>\n",
       "    .dataframe tbody tr th:only-of-type {\n",
       "        vertical-align: middle;\n",
       "    }\n",
       "\n",
       "    .dataframe tbody tr th {\n",
       "        vertical-align: top;\n",
       "    }\n",
       "\n",
       "    .dataframe thead th {\n",
       "        text-align: right;\n",
       "    }\n",
       "</style>\n",
       "<table border=\"1\" class=\"dataframe\">\n",
       "  <thead>\n",
       "    <tr style=\"text-align: right;\">\n",
       "      <th></th>\n",
       "      <th>x</th>\n",
       "      <th>y</th>\n",
       "      <th>ypred</th>\n",
       "      <th>x2</th>\n",
       "      <th>x1</th>\n",
       "      <th>x3</th>\n",
       "      <th>x4</th>\n",
       "      <th>x5</th>\n",
       "      <th>x6</th>\n",
       "      <th>x7</th>\n",
       "      <th>x8</th>\n",
       "      <th>x9</th>\n",
       "      <th>x10</th>\n",
       "      <th>x11</th>\n",
       "      <th>x12</th>\n",
       "      <th>x13</th>\n",
       "      <th>x14</th>\n",
       "      <th>x15</th>\n",
       "    </tr>\n",
       "  </thead>\n",
       "  <tbody>\n",
       "    <tr>\n",
       "      <th>0</th>\n",
       "      <td>-10.0</td>\n",
       "      <td>62.503031</td>\n",
       "      <td>61.324344</td>\n",
       "      <td>100.00</td>\n",
       "      <td>-10.0</td>\n",
       "      <td>-1000.000</td>\n",
       "      <td>10000.0000</td>\n",
       "      <td>-100000.00000</td>\n",
       "      <td>1000000.000000</td>\n",
       "      <td>-1.000000e+07</td>\n",
       "      <td>1.000000e+08</td>\n",
       "      <td>-1.000000e+09</td>\n",
       "      <td>1.000000e+10</td>\n",
       "      <td>-1.000000e+11</td>\n",
       "      <td>1.000000e+12</td>\n",
       "      <td>-1.000000e+13</td>\n",
       "      <td>1.000000e+14</td>\n",
       "      <td>-1.000000e+15</td>\n",
       "    </tr>\n",
       "    <tr>\n",
       "      <th>1</th>\n",
       "      <td>-9.5</td>\n",
       "      <td>51.410761</td>\n",
       "      <td>52.215358</td>\n",
       "      <td>90.25</td>\n",
       "      <td>-9.5</td>\n",
       "      <td>-857.375</td>\n",
       "      <td>8145.0625</td>\n",
       "      <td>-77378.09375</td>\n",
       "      <td>735091.890625</td>\n",
       "      <td>-6.983373e+06</td>\n",
       "      <td>6.634204e+07</td>\n",
       "      <td>-6.302494e+08</td>\n",
       "      <td>5.987369e+09</td>\n",
       "      <td>-5.688001e+10</td>\n",
       "      <td>5.403601e+11</td>\n",
       "      <td>-5.133421e+12</td>\n",
       "      <td>4.876750e+13</td>\n",
       "      <td>-4.632912e+14</td>\n",
       "    </tr>\n",
       "    <tr>\n",
       "      <th>2</th>\n",
       "      <td>-9.0</td>\n",
       "      <td>44.605198</td>\n",
       "      <td>43.696480</td>\n",
       "      <td>81.00</td>\n",
       "      <td>-9.0</td>\n",
       "      <td>-729.000</td>\n",
       "      <td>6561.0000</td>\n",
       "      <td>-59049.00000</td>\n",
       "      <td>531441.000000</td>\n",
       "      <td>-4.782969e+06</td>\n",
       "      <td>4.304672e+07</td>\n",
       "      <td>-3.874205e+08</td>\n",
       "      <td>3.486784e+09</td>\n",
       "      <td>-3.138106e+10</td>\n",
       "      <td>2.824295e+11</td>\n",
       "      <td>-2.541866e+12</td>\n",
       "      <td>2.287679e+13</td>\n",
       "      <td>-2.058911e+14</td>\n",
       "    </tr>\n",
       "    <tr>\n",
       "      <th>3</th>\n",
       "      <td>-8.5</td>\n",
       "      <td>24.739247</td>\n",
       "      <td>35.767711</td>\n",
       "      <td>72.25</td>\n",
       "      <td>-8.5</td>\n",
       "      <td>-614.125</td>\n",
       "      <td>5220.0625</td>\n",
       "      <td>-44370.53125</td>\n",
       "      <td>377149.515625</td>\n",
       "      <td>-3.205771e+06</td>\n",
       "      <td>2.724905e+07</td>\n",
       "      <td>-2.316169e+08</td>\n",
       "      <td>1.968744e+09</td>\n",
       "      <td>-1.673432e+10</td>\n",
       "      <td>1.422418e+11</td>\n",
       "      <td>-1.209055e+12</td>\n",
       "      <td>1.027697e+13</td>\n",
       "      <td>-8.735422e+13</td>\n",
       "    </tr>\n",
       "    <tr>\n",
       "      <th>4</th>\n",
       "      <td>-8.0</td>\n",
       "      <td>22.200164</td>\n",
       "      <td>28.429050</td>\n",
       "      <td>64.00</td>\n",
       "      <td>-8.0</td>\n",
       "      <td>-512.000</td>\n",
       "      <td>4096.0000</td>\n",
       "      <td>-32768.00000</td>\n",
       "      <td>262144.000000</td>\n",
       "      <td>-2.097152e+06</td>\n",
       "      <td>1.677722e+07</td>\n",
       "      <td>-1.342177e+08</td>\n",
       "      <td>1.073742e+09</td>\n",
       "      <td>-8.589935e+09</td>\n",
       "      <td>6.871948e+10</td>\n",
       "      <td>-5.497558e+11</td>\n",
       "      <td>4.398047e+12</td>\n",
       "      <td>-3.518437e+13</td>\n",
       "    </tr>\n",
       "  </tbody>\n",
       "</table>\n",
       "</div>"
      ],
      "text/plain": [
       "      x          y      ypred      x2    x1        x3          x4  \\\n",
       "0 -10.0  62.503031  61.324344  100.00 -10.0 -1000.000  10000.0000   \n",
       "1  -9.5  51.410761  52.215358   90.25  -9.5  -857.375   8145.0625   \n",
       "2  -9.0  44.605198  43.696480   81.00  -9.0  -729.000   6561.0000   \n",
       "3  -8.5  24.739247  35.767711   72.25  -8.5  -614.125   5220.0625   \n",
       "4  -8.0  22.200164  28.429050   64.00  -8.0  -512.000   4096.0000   \n",
       "\n",
       "             x5              x6            x7            x8            x9  \\\n",
       "0 -100000.00000  1000000.000000 -1.000000e+07  1.000000e+08 -1.000000e+09   \n",
       "1  -77378.09375   735091.890625 -6.983373e+06  6.634204e+07 -6.302494e+08   \n",
       "2  -59049.00000   531441.000000 -4.782969e+06  4.304672e+07 -3.874205e+08   \n",
       "3  -44370.53125   377149.515625 -3.205771e+06  2.724905e+07 -2.316169e+08   \n",
       "4  -32768.00000   262144.000000 -2.097152e+06  1.677722e+07 -1.342177e+08   \n",
       "\n",
       "            x10           x11           x12           x13           x14  \\\n",
       "0  1.000000e+10 -1.000000e+11  1.000000e+12 -1.000000e+13  1.000000e+14   \n",
       "1  5.987369e+09 -5.688001e+10  5.403601e+11 -5.133421e+12  4.876750e+13   \n",
       "2  3.486784e+09 -3.138106e+10  2.824295e+11 -2.541866e+12  2.287679e+13   \n",
       "3  1.968744e+09 -1.673432e+10  1.422418e+11 -1.209055e+12  1.027697e+13   \n",
       "4  1.073742e+09 -8.589935e+09  6.871948e+10 -5.497558e+11  4.398047e+12   \n",
       "\n",
       "            x15  \n",
       "0 -1.000000e+15  \n",
       "1 -4.632912e+14  \n",
       "2 -2.058911e+14  \n",
       "3 -8.735422e+13  \n",
       "4 -3.518437e+13  "
      ]
     },
     "execution_count": 11,
     "metadata": {},
     "output_type": "execute_result"
    }
   ],
   "source": [
    "M=15\n",
    "for p in range(1,M+1): #add more powers of x up to 10'th\n",
    "    data1['x%d'%p]=data1.x**p\n",
    "data1.head()"
   ]
  },
  {
   "cell_type": "code",
   "execution_count": 12,
   "metadata": {},
   "outputs": [
    {
     "data": {
      "text/plain": [
       "'y~x+x2+x3+x4+x5+x6+x7+x8+x9+x10+x11+x12+x13+x14+x15'"
      ]
     },
     "execution_count": 12,
     "metadata": {},
     "output_type": "execute_result"
    }
   ],
   "source": [
    "#create a formulae for multi-variate regression using list comprehension\n",
    "formula='y~x+'+'+'.join(['x%d'%p for p in range(2,M+1)]); formula"
   ]
  },
  {
   "cell_type": "code",
   "execution_count": 13,
   "metadata": {},
   "outputs": [
    {
     "name": "stdout",
     "output_type": "stream",
     "text": [
      "                            OLS Regression Results                            \n",
      "==============================================================================\n",
      "Dep. Variable:                      y   R-squared:                       0.997\n",
      "Model:                            OLS   Adj. R-squared:                  0.996\n",
      "Method:                 Least Squares   F-statistic:                     700.5\n",
      "Date:                Tue, 13 Nov 2018   Prob (F-statistic):           1.23e-29\n",
      "Time:                        20:04:15   Log-Likelihood:                -90.836\n",
      "No. Observations:                  40   AIC:                             209.7\n",
      "Df Residuals:                      26   BIC:                             233.3\n",
      "Df Model:                          13                                         \n",
      "Covariance Type:            nonrobust                                         \n",
      "==============================================================================\n",
      "                 coef    std err          t      P>|t|      [0.025      0.975]\n",
      "------------------------------------------------------------------------------\n",
      "Intercept     -0.5428      1.471     -0.369      0.715      -3.567       2.482\n",
      "x              2.6195      1.465      1.788      0.085      -0.392       5.631\n",
      "x2             0.4182      0.846      0.495      0.625      -1.320       2.156\n",
      "x3            -0.2917      0.443     -0.658      0.516      -1.202       0.619\n",
      "x4            -0.0151      0.130     -0.117      0.908      -0.281       0.251\n",
      "x5             0.0341      0.047      0.730      0.472      -0.062       0.130\n",
      "x6             0.0017      0.008      0.204      0.840      -0.015       0.018\n",
      "x7            -0.0015      0.002     -0.641      0.527      -0.006       0.003\n",
      "x8         -4.497e-05      0.000     -0.176      0.861      -0.001       0.000\n",
      "x9          3.342e-05      6e-05      0.557      0.582   -8.98e-05       0.000\n",
      "x10          5.88e-07   4.15e-06      0.142      0.888   -7.94e-06    9.11e-06\n",
      "x11        -4.127e-07    8.5e-07     -0.485      0.631   -2.16e-06    1.33e-06\n",
      "x12        -3.712e-09   3.38e-08     -0.110      0.913   -7.31e-08    6.57e-08\n",
      "x13         2.618e-09    6.2e-09      0.422      0.676   -1.01e-08    1.54e-08\n",
      "x14         9.119e-12   1.08e-10      0.084      0.934   -2.14e-10    2.32e-10\n",
      "x15        -6.656e-12   1.82e-11     -0.366      0.717    -4.4e-11    3.07e-11\n",
      "==============================================================================\n",
      "Omnibus:                        1.466   Durbin-Watson:                   2.284\n",
      "Prob(Omnibus):                  0.481   Jarque-Bera (JB):                1.375\n",
      "Skew:                          -0.337   Prob(JB):                        0.503\n",
      "Kurtosis:                       2.391   Cond. No.                     6.99e+14\n",
      "==============================================================================\n",
      "\n",
      "Warnings:\n",
      "[1] Standard Errors assume that the covariance matrix of the errors is correctly specified.\n",
      "[2] The condition number is large, 6.99e+14. This might indicate that there are\n",
      "strong multicollinearity or other numerical problems.\n"
     ]
    },
    {
     "data": {
      "text/plain": [
       "<matplotlib.text.Text at 0x7f84a054a6a0>"
      ]
     },
     "execution_count": 13,
     "metadata": {},
     "output_type": "execute_result"
    },
    {
     "data": {
      "image/png": "[encoded data removed]",
      "text/plain": [
       "<matplotlib.figure.Figure at 0x7f84ac79f048>"
      ]
     },
     "metadata": {
      "needs_background": "light"
     },
     "output_type": "display_data"
    }
   ],
   "source": [
    "lm = smf.ols(formula=formula, data = data1).fit()\n",
    "print(lm.summary())\n",
    "data1['ypred']=lm.predict() #predicted regression values\n",
    "plt.plot(data1.x,data1.y,'.r') #plot the data\n",
    "plt.plot(data1.x,data1.ypred,'b') #plot the regression\n",
    "plt.legend()\n",
    "plt.xlabel('x')\n",
    "plt.ylabel('y')"
   ]
  },
  {
   "cell_type": "markdown",
   "metadata": {},
   "source": [
    "Recall we have more data in data1_2 and data1_3. Let's see if the model is going to do any good there. This procedure is called validation. Call:   \n",
    "data1 - *training sample* (where the models are trained)  \n",
    "data1_2 - *validation sample* (where the candidate models are validated)  \n",
    "data1_3 - *test sample* (where the final model will get tested)"
   ]
  },
  {
   "cell_type": "code",
   "execution_count": 14,
   "metadata": {},
   "outputs": [],
   "source": [
    "#generate regressors in the validation sample and compute the model prediction\n",
    "for p in range(1,M+1): #add more powers of x up to 10'th\n",
    "    data1_2['x%d'%p]=data1_2.x**p\n",
    "data1_2['ypred']=lm.predict(data1_2)"
   ]
  },
  {
   "cell_type": "code",
   "execution_count": 15,
   "metadata": {},
   "outputs": [
    {
     "data": {
      "text/plain": [
       "<matplotlib.text.Text at 0x21ee4683978>"
      ]
     },
     "execution_count": 15,
     "metadata": {},
     "output_type": "execute_result"
    },
    {
     "data": {
      "image/png": "[encoded data removed]",
      "text/plain": [
       "<matplotlib.figure.Figure at 0x21ee3de27f0>"
      ]
     },
     "metadata": {},
     "output_type": "display_data"
    }
   ],
   "source": [
    "#visualize the fit\n",
    "plt.plot(data1_2.x,data1_2.y,'.r') #plot the data\n",
    "plt.plot(data1_2.x,data1_2.ypred,'b') #plot the regression\n",
    "plt.legend(loc='lower right')\n",
    "plt.ylim(100,1000)\n",
    "plt.xlabel('x')\n",
    "plt.ylabel('y')"
   ]
  },
  {
   "cell_type": "code",
   "execution_count": 16,
   "metadata": {},
   "outputs": [
    {
     "data": {
      "text/plain": [
       "-115234.51779906108"
      ]
     },
     "execution_count": 16,
     "metadata": {},
     "output_type": "execute_result"
    }
   ],
   "source": [
    "#compute R2 over the validation data\n",
    "ValidR2=1-((data1_2.ypred-data1_2.y)**2).sum()/((data1_2.y-data1_2.y.mean())**2).sum()\n",
    "ValidR2"
   ]
  },
  {
   "cell_type": "markdown",
   "metadata": {},
   "source": [
    "So the more regressors does not always mean the better. M (the max power of x to consider) can be seen as a parameter defining complexity of the model. \n",
    "\n",
    "Choose the optimal value for M in terms of the validation R2"
   ]
  },
  {
   "cell_type": "code",
   "execution_count": 17,
   "metadata": {},
   "outputs": [],
   "source": [
    "TrainR2=[0]*15\n",
    "ValidR2=[0]*15\n",
    "lm=[0]*15\n",
    "for M in range(1,16):\n",
    "    formula='y~x'+'+'*(M>1)+'+'.join(['x%d'%p for p in range(2,M+1)]);\n",
    "    lm[M-1] = smf.ols(formula=formula, data = data1).fit()\n",
    "    data1_2['ypred']=lm[M-1].predict(data1_2)\n",
    "    ValidR2[M-1]=1-((data1_2.ypred-data1_2.y)**2).sum()/((data1_2.y-data1_2.y.mean())**2).sum()\n",
    "    TrainR2[M-1]=lm[M-1].rsquared"
   ]
  },
  {
   "cell_type": "code",
   "execution_count": 18,
   "metadata": {},
   "outputs": [
    {
     "data": {
      "text/plain": [
       "<matplotlib.legend.Legend at 0x21ee5776518>"
      ]
     },
     "execution_count": 18,
     "metadata": {},
     "output_type": "execute_result"
    },
    {
     "data": {
      "image/png": "[encoded data removed]",
      "text/plain": [
       "<matplotlib.figure.Figure at 0x21ee3dbd7b8>"
      ]
     },
     "metadata": {},
     "output_type": "display_data"
    }
   ],
   "source": [
    "plt.plot(range(1,9),TrainR2[:8],'b-*',label='train')\n",
    "plt.plot(range(1,9),ValidR2[:8],'r-*',label='valid')\n",
    "plt.xlabel('M')\n",
    "plt.ylabel('R2')\n",
    "plt.ylim(-1,1.1)\n",
    "plt.xlim(1,9)\n",
    "plt.legend(loc='lower right')"
   ]
  },
  {
   "cell_type": "code",
   "execution_count": 19,
   "metadata": {},
   "outputs": [
    {
     "data": {
      "text/plain": [
       "5"
      ]
     },
     "execution_count": 19,
     "metadata": {},
     "output_type": "execute_result"
    }
   ],
   "source": [
    "M=np.argmax(ValidR2)+1; M"
   ]
  },
  {
   "cell_type": "code",
   "execution_count": null,
   "metadata": {},
   "outputs": [],
   "source": [
    "lm[M-1].summary()"
   ]
  },
  {
   "cell_type": "code",
   "execution_count": null,
   "metadata": {},
   "outputs": [],
   "source": [
    "#generate regressors in the validation sample and compute the model prediction\n",
    "for p in range(1,11): #add more powers of x up to 10'th\n",
    "    data1_3['x%d'%p]=data1_3.x**p\n",
    "data1_3['ypred']=lm[M-1].predict(data1_3)\n",
    "TestR2=1-((data1_3.ypred-data1_3.y)**2).sum()/((data1_3.y-data1_3.y.mean())**2).sum()\n",
    "TestR2"
   ]
  },
  {
   "cell_type": "code",
   "execution_count": null,
   "metadata": {},
   "outputs": [],
   "source": [
    "#visualize the fit\n",
    "plt.plot(data1_3.x,data1_3.y,'.r') #plot the data\n",
    "plt.plot(data1_3.x,data1_3.ypred,'b') #plot the regression\n",
    "plt.legend(loc='lower right')\n",
    "plt.ylim(700,2000)\n",
    "plt.xlabel('x')\n",
    "plt.ylabel('y')"
   ]
  },
  {
   "cell_type": "markdown",
   "metadata": {
    "collapsed": true
   },
   "source": [
    "# Example 2. Illustration of overfitting "
   ]
  },
  {
   "cell_type": "code",
   "execution_count": null,
   "metadata": {},
   "outputs": [],
   "source": [
    "#load some toy data which can help us see overfitting in a more tangible manner\n",
    "#notice that the data was generated using the underlying law y=f(x)+e below with some perturbations e.\n",
    "#We will use the\n",
    "f = lambda x: x**3 - 2*x**2 - 5*x + 1\n",
    "x_test=4.3; y_test=f(4.3) #to test the models\n",
    "data2 = pd.read_csv('data/poly_example.csv')\n",
    "data2"
   ]
  },
  {
   "cell_type": "code",
   "execution_count": null,
   "metadata": {},
   "outputs": [],
   "source": [
    "#plot the data\n",
    "plt.figure(figsize = (5,5))\n",
    "plt.plot(data2.x, data2.y, 'ro', markersize = 8)"
   ]
  },
  {
   "cell_type": "code",
   "execution_count": null,
   "metadata": {
    "collapsed": true
   },
   "outputs": [],
   "source": [
    "#generate regressors as powers of x\n",
    "for p in range(1,10): #add more powers of x up to 10'th\n",
    "    data2['x%d'%p]=data2.x**p"
   ]
  },
  {
   "cell_type": "code",
   "execution_count": null,
   "metadata": {},
   "outputs": [],
   "source": [
    "#get the regression parameters and compute the training R2 for each degree M of the model\n",
    "R2 = []; Params = []\n",
    "for M in range(1,10):\n",
    "    formula='y~x'+'+'*(M>1)+'+'.join(['x%d'%p for p in range(2,M+1)]);\n",
    "    lm = smf.ols(formula = formula, data = data2).fit()\n",
    "    R2.append(lm.rsquared)\n",
    "    Params.append(lm.params)"
   ]
  },
  {
   "cell_type": "code",
   "execution_count": null,
   "metadata": {},
   "outputs": [],
   "source": [
    "#visualize all the fits, and see how they behave against the underlying formula and in particlar the test observation\n",
    "plt.figure(figsize = (20,15))\n",
    "\n",
    "for M in range(1,10):\n",
    "    plt.subplot(330+M)   # Plot subfigure, M controls the location\n",
    "    x_fit = np.linspace(-2,4.3,100)  # For smoothing the fitted curve\n",
    "    y_fit = pd.DataFrame(np.matrix([x_fit**k for k in range(M+1)]).T,  # Generate our fitted curve\n",
    "                         columns = Params[M-1].index).mul(Params[M-1], 1).sum(1)  # 1 means computation runs row-wise\n",
    "    # Pay attention how we obtain the results by controlling the axes on which the operations are performed\n",
    "\n",
    "    y_future = 0\n",
    "    x_future = x_test\n",
    "    for i in range(len(Params[M-1])):\n",
    "        y_future += Params[M-1][i] * (x_future**i)\n",
    "    plt.plot(data2.x1, data2.y, 'ro', markersize = 8)    # Red dots, the observations\n",
    "    plt.plot(x_fit, f(x_fit), 'g-', lw = 2)              # Green curve, the actual function f defined before\n",
    "    plt.plot(x_fit, y_fit, 'b--', lw = 2)                # Blue dashed line, our fitted curve\n",
    "    plt.plot(x_future, y_future, 'b*', markersize = 18)        # Blue star, fitted value\n",
    "    plt.plot(x_future, y_test, 'g*', markersize = 18)     # Green star, true value\n",
    "    plt.plot([x_future,x_future], [y_future, f(x_future)], 'k--', lw = 2)\n",
    "    plt.title('Degree M = %d'%(M), fontsize = 14)"
   ]
  },
  {
   "cell_type": "markdown",
   "metadata": {},
   "source": [
    "### Excercise 1. Perform Lasso and Ridge on example 1 for the model of degree M=10"
   ]
  },
  {
   "cell_type": "markdown",
   "metadata": {},
   "source": [
    "Now once we detect the overfitting issue with high-degree polynomial models in the example one, let's see if regularization (Lasso or Ridge; after we consider those) could help with fighting it. However as different powers of x are definetely not on the same scale we need to standardize them first (e.g. $x:=(x-\\mu)/\\sigma$) to make sure regularization is fare and adequate. \n",
    "\n",
    "Important - need to apply the same $\\mu$ and $\\sigma$ defined over data1_1 to data1_2 and data1_3 as we are not supposed to learn anything, including normalization coefficients from validation and test data - those are for testing only. All the parameters of the model are to be learned from training data exclusively.\n",
    "\n",
    "In fact it is even better to frame it like instead of standardizing validation and test samples we are running a model to predict the standardized version of the output varaible and them apply inverse transform with known mu and sigma to get the non-standardized version of it. But keeping this in mind lets just stick to the standardization procedure to keep things simple. \n",
    "\n",
    "Also to keep it simple let's tune alpha manually looking at the impact on Validation R2 (over data1_2) and then test the resulting model over data1_3, computing the Test R2. The least will depend on our effort fine-tuning alpha, so lets do the best we can"
   ]
  },
  {
   "cell_type": "code",
   "execution_count": null,
   "metadata": {
    "collapsed": true
   },
   "outputs": [],
   "source": []
  }
 ],
 "metadata": {
  "anaconda-cloud": {},
  "kernelspec": {
   "display_name": "ADS",
   "language": "python",
   "name": "ads"
  },
  "language_info": {
   "codemirror_mode": {
    "name": "ipython",
    "version": 3
   },
   "file_extension": ".py",
   "mimetype": "text/x-python",
   "name": "python",
   "nbconvert_exporter": "python",
   "pygments_lexer": "ipython3",
   "version": "3.5.0"
  }
 },
 "nbformat": 4,
 "nbformat_minor": 1
}
